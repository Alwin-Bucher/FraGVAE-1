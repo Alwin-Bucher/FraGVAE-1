{
 "cells": [
  {
   "cell_type": "markdown",
   "metadata": {},
   "source": [
    "# Example of how to run characterization\n",
    "This is an example of how to run the FraGVAE, ChemVAE, random FraGVAE and ECFP comparison seen in the article. \n",
    "### Import all characterization functions"
   ]
  },
  {
   "cell_type": "code",
   "execution_count": 1,
   "metadata": {},
   "outputs": [
    {
     "name": "stderr",
     "output_type": "stream",
     "text": [
      "Using TensorFlow backend.\n"
     ]
    }
   ],
   "source": [
    "from characterization import compared_fingerprints_general, compared_fingerprints_additives\n"
   ]
  },
  {
   "cell_type": "markdown",
   "metadata": {},
   "source": [
    "### Run Comparison of random subsets of larger datasets\n",
    "- Running will automatically reset previous result files\n",
    "- Can also run on ESOL dataset.\n",
    "        y_predict_name = 'logP';\n",
    "        Expt_results = compared_fingerprints_general(2,y_predict_name)\n",
    "\n"
   ]
  },
  {
   "cell_type": "code",
   "execution_count": null,
   "metadata": {
    "scrolled": true
   },
   "outputs": [
    {
     "name": "stdout",
     "output_type": "stream",
     "text": [
      "Overwite file models/experiment000001/exp.json\n",
      "FHO Decoder Model Generation: Complete                                                                                    Loaded previous FraGVAE model\n",
      "Overwite file models/experiment000001/exp.json\n",
      "FHO Decoder Model Generation: Complete                                                                                    Loaded previous random FraGVAE model\n"
     ]
    },
    {
     "name": "stderr",
     "output_type": "stream",
     "text": [
      "C:\\Users\\ja550\\AppData\\Local\\conda\\conda\\envs\\graph_VAE\\lib\\site-packages\\keras\\models.py:251: UserWarning: No training configuration found in save file: the model was *not* compiled. Compile it manually.\n",
      "  warnings.warn('No training configuration found in save file: '\n"
     ]
    },
    {
     "name": "stdout",
     "output_type": "stream",
     "text": [
      "Using standarized functions? True\n",
      "Standarization: estimating mu and std values ...done!\n",
      "Training. Num Samples: 10 Repeat idx: 0 ECFP degree 2 New/BestScore 0.8825353753645737/0.7990936905778987                                                             "
     ]
    }
   ],
   "source": [
    "    import fragvae as fg\n",
    "    #just to remove some warnings to remove non-relavent tensorflow noise\n",
    "    fg.utils.tensorflow_shutup()\n",
    "    \n",
    "    #Zinc15 predict name options y_predict_name = {'SAS', 'qed', 'logP'}\n",
    "    y_predict_name = 'logP'\n",
    "    Expt_results = compared_fingerprints_general(1,y_predict_name)"
   ]
  },
  {
   "cell_type": "markdown",
   "metadata": {},
   "source": [
    "### Run Comparison of technique on polymer additives set\n"
   ]
  },
  {
   "cell_type": "code",
   "execution_count": 2,
   "metadata": {},
   "outputs": [
    {
     "ename": "NameError",
     "evalue": "name 'params' is not defined",
     "output_type": "error",
     "traceback": [
      "\u001b[1;31m---------------------------------------------------------------------------\u001b[0m",
      "\u001b[1;31mNameError\u001b[0m                                 Traceback (most recent call last)",
      "\u001b[1;32m<ipython-input-2-5f11402a5e81>\u001b[0m in \u001b[0;36m<module>\u001b[1;34m\u001b[0m\n\u001b[0;32m      2\u001b[0m \u001b[0mfg\u001b[0m\u001b[1;33m.\u001b[0m\u001b[0mutils\u001b[0m\u001b[1;33m.\u001b[0m\u001b[0mtensorflow_shutup\u001b[0m\u001b[1;33m(\u001b[0m\u001b[1;33m)\u001b[0m\u001b[1;33m\u001b[0m\u001b[1;33m\u001b[0m\u001b[0m\n\u001b[0;32m      3\u001b[0m \u001b[1;33m\u001b[0m\u001b[0m\n\u001b[1;32m----> 4\u001b[1;33m \u001b[0mresult\u001b[0m \u001b[1;33m=\u001b[0m \u001b[0mcompared_fingerprints_additives\u001b[0m\u001b[1;33m(\u001b[0m\u001b[0mparams\u001b[0m\u001b[1;33m)\u001b[0m\u001b[1;33m\u001b[0m\u001b[1;33m\u001b[0m\u001b[0m\n\u001b[0m",
      "\u001b[1;31mNameError\u001b[0m: name 'params' is not defined"
     ]
    }
   ],
   "source": [
    "import fragvae as fg\n",
    "fg.utils.tensorflow_shutup()\n",
    "\n",
    "result = compared_fingerprints_additives()"
   ]
  },
  {
   "cell_type": "code",
   "execution_count": null,
   "metadata": {},
   "outputs": [],
   "source": []
  }
 ],
 "metadata": {
  "kernelspec": {
   "display_name": "Python 3",
   "language": "python",
   "name": "python3"
  },
  "language_info": {
   "codemirror_mode": {
    "name": "ipython",
    "version": 3
   },
   "file_extension": ".py",
   "mimetype": "text/x-python",
   "name": "python",
   "nbconvert_exporter": "python",
   "pygments_lexer": "ipython3",
   "version": "3.7.3"
  }
 },
 "nbformat": 4,
 "nbformat_minor": 2
}
